{
 "cells": [
  {
   "cell_type": "code",
   "execution_count": 20,
   "metadata": {
    "pycharm": {
     "name": "#%%\n"
    }
   },
   "outputs": [],
   "source": [
    "# Part I. ETL Pipeline for Pre-Processing the Files"
   ]
  },
  {
   "cell_type": "markdown",
   "metadata": {
    "pycharm": {
     "name": "#%% md\n"
    }
   },
   "source": [
    "### Changes in Submission 2\n",
    " - Add userId to song_subscription PRIMARY KEY\n",
    " - Add more commentary to this notebook"
   ]
  },
  {
   "cell_type": "markdown",
   "metadata": {
    "pycharm": {
     "name": "#%% md\n"
    }
   },
   "source": [
    "---\n",
    "## Project Requirement\n",
    "#### We are provided with a `music app history`  dataset - a list of csv files in the event_data root directory.\n",
    "##### <font color='green'>Each csv file contains the following columns:</font>\n",
    "- artist\n",
    "- firstName of user\n",
    "- gender of user\n",
    "- item number in session\n",
    "- last name of user\n",
    "- length of the song\n",
    "- level (paid or free song)\n",
    "- location of the user\n",
    "- sessionId\n",
    "- song title\n",
    "- userId\n",
    "\n",
    "\n",
    "##### <font color='green'>Our goal is to create a Cassandra Schema that answers the following 3 queries::</font>\n",
    "- QUERY 1 :: Select the artist, song title and song’s length in the music app history that was heard during sessionId = 338, and itemInSession = 4\n",
    "- QUERY 2 :: Select ame of artist, song (sorted by itemInSession) and user (first and last name) for userid = 10, sessionid = 182\n",
    "- QUERY 3 :: Select the every user name (first and last) in my music app history who listened to the song ‘All Hands Against His Own’\n",
    "\n",
    "<br>\n"
   ]
  },
  {
   "cell_type": "markdown",
   "source": [
    "---\n",
    "## Solution\n",
    "\n",
    "##### <font color='green'>We'll create the following Cassandra tables</font>\n",
    "\n",
    "\n",
    "- QUERY 1\n",
    "    - <font color='gray'>Requirement: <i>Select the artist, song title and song’s length in the music app history that was heard during sessionId = 338, and itemInSession = 4</i></font>\n",
    "    - Solution:\n",
    "        - Create a `songplay_sessions` table composite primary key ((sessionId, itemInSession)) because we need to query for both of those columns\n",
    "\n",
    "<br>\n",
    "\n",
    "- QUERY 2\n",
    "    - <font color='gray'>Requirement: <i>Select ame of artist, song (sorted by itemInSession) and user (first and last name) for userid = 10, sessionid = 182</i></font>\n",
    "    - Solution:\n",
    "        - create a `user_sessions` table with PRIMARY KEY((userId, sessionId), itemInSession) because we need to query on both userId, and sessionId.\n",
    "        - we add the custer key of itemInSession so that the results will be sorted by this column.\n",
    "\n",
    "<br>\n",
    "\n",
    "- QUERY 3\n",
    "    - <font color='gray'>Requirement: <i>Select the every user name (first and last) in my music app history who listened to the song ‘All Hands Against His Own’</i></font>\n",
    "    - Solution:\n",
    "        - create a `song_subscribers` table with PRIMARY KEY (song, userId) because we need to query on the partition key \"song\",\n",
    "        - we also want to make sure that the song+user pair is unique, so if both Bill and Marge are both subscribing to the same song, they will create two separate keys\n",
    "\n",
    "<br>\n",
    "\n",
    "##### <font color='green'>We do this in 6 steps in this Notebook</font>\n",
    "- STEP 1 - CONNECT TO A LOCAL CASSANDRA CLUSTER AND CREATE AN `EVENT_DATA` KEYSPACE\n",
    "- STEP 2 - SETUP A CLASS TO MANAGE THE POSITION-BASED VALUES ARRAY\n",
    "- STEP 3 - SETUP FUNCTIONS THAT WE WILL USE LATER\n",
    "- STEP 4 - LOAD DATA INTO CASSANDRA\n",
    "- STEP 5 - PERFORM OUR QUERIES\n",
    "- STEP 6 - CLEAN UP"
   ],
   "metadata": {
    "collapsed": false,
    "pycharm": {
     "name": "#%% md\n"
    }
   }
  },
  {
   "cell_type": "markdown",
   "metadata": {
    "pycharm": {
     "name": "#%% md\n"
    }
   },
   "source": []
  },
  {
   "cell_type": "code",
   "execution_count": 21,
   "metadata": {
    "pycharm": {
     "name": "#%%\n"
    }
   },
   "outputs": [],
   "source": [
    "# Import Python packages \n",
    "import csv\n",
    "import glob\n",
    "import os\n",
    "import cassandra\n",
    "from typing import List\n",
    "import sql_queries"
   ]
  },
  {
   "cell_type": "markdown",
   "metadata": {
    "pycharm": {
     "name": "#%% md\n"
    }
   },
   "source": [
    "---\n",
    "### STEP 1 - CONNECT TO A LOCAL CASSANDRA CLUSTER AND CREATE AN `EVENT_DATA` KEYSPACE"
   ]
  },
  {
   "cell_type": "code",
   "execution_count": 22,
   "metadata": {
    "pycharm": {
     "name": "#%%\n"
    }
   },
   "outputs": [
    {
     "name": "stdout",
     "output_type": "stream",
     "text": [
      "connected to cassandra\n"
     ]
    }
   ],
   "source": [
    "from cassandra.cluster import Cluster, Session\n",
    "\n",
    "cluster = Cluster(['127.0.0.1'])\n",
    "cassandra_session = cluster.connect()\n",
    "\n",
    "# create and use schema\n",
    "cassandra_session.execute(\"\"\"\n",
    "            CREATE KEYSPACE IF NOT EXISTS event_data\n",
    "            WITH REPLICATION =\n",
    "            { 'class' : 'SimpleStrategy', 'replication_factor' : 1 }\"\"\")\n",
    "\n",
    "cassandra_session.set_keyspace('event_data')\n",
    "\n",
    "print(\"connected to cassandra\")"
   ]
  },
  {
   "cell_type": "markdown",
   "metadata": {
    "pycharm": {
     "name": "#%% md\n"
    }
   },
   "source": [
    "---\n",
    "### STEP 2 - SETUP A CLASS TO MANAGE THE POSITION-BASED VALUES ARRAY"
   ]
  },
  {
   "cell_type": "code",
   "execution_count": 23,
   "metadata": {
    "pycharm": {
     "name": "#%%\n"
    }
   },
   "outputs": [
    {
     "name": "stdout",
     "output_type": "stream",
     "text": [
      "class created\n"
     ]
    }
   ],
   "source": [
    "class CsvRecord:\n",
    "    \"\"\"\n",
    "    utility class to make transform from csv to columns clearer\n",
    "    \"\"\"\n",
    "    good_record: bool = False  # always false unless all fields were found\n",
    "\n",
    "    def __init__(self, line : List[any]):\n",
    "        \"\"\"\n",
    "        transform one values array into named columns    \n",
    "        :param \n",
    "            line: array of 11 values\n",
    "        \"\"\"\n",
    "        if len(line) != 11:\n",
    "            print(f\"bad line: {','.join(line)}\")\n",
    "            return\n",
    "        self.artist = line[0]\n",
    "        self.first_name= line[1]\n",
    "        self.gender = line[2]\n",
    "        self.item_in_session = int(line[3])\n",
    "        self.last_name= line[4]\n",
    "        self.song_length = float(line[5])\n",
    "        self.level = line[6]\n",
    "        self.location= line[7]\n",
    "        self.session_id= int(line[8])\n",
    "        self.song = line[9]\n",
    "        self.user_id = int(line[10])\n",
    "        self.good_record = True\n",
    "                  \n",
    "print(\"class created\")"
   ]
  },
  {
   "cell_type": "markdown",
   "metadata": {
    "pycharm": {
     "name": "#%% md\n"
    }
   },
   "source": [
    "---\n",
    "### STEP 3 - SETUP FUNCTIONS THAT WE WILL USE LATER"
   ]
  },
  {
   "cell_type": "markdown",
   "metadata": {
    "pycharm": {
     "name": "#%% md\n"
    }
   },
   "source": [
    "##### <font color='green'>define a function that creates a list of files from the \"event_data\" directory</font>"
   ]
  },
  {
   "cell_type": "code",
   "execution_count": 24,
   "metadata": {
    "pycharm": {
     "name": "#%%\n"
    }
   },
   "outputs": [
    {
     "name": "stdout",
     "output_type": "stream",
     "text": [
      "method get_files created\n"
     ]
    }
   ],
   "source": [
    "def get_files(event_data: str) -> List[str]:\n",
    "    \"\"\"\n",
    "    walk root directory and get all csv files in all subdirectories  \n",
    "    \n",
    "    :param \n",
    "        event_data: the root directory name to walk\n",
    "    \n",
    "    :return\n",
    "        A list of all csv files in all subdirectories\n",
    "    \"\"\"\n",
    "\n",
    "    # checking your current working directory\n",
    "    print(f\"Getting csv files from {os.getcwd()}\")\n",
    "\n",
    "    # Get your current folder and subfolder event data\n",
    "    filepath = os.getcwd() + '/' + event_data\n",
    "\n",
    "    # Create a for loop to create a list of files and collect each filepath\n",
    "    for root, dirs, files in os.walk(filepath):\n",
    "        # join the file path and roots with the subdirectories using glob\n",
    "        file_path_list = glob.glob(os.path.join(root, '*.csv'))\n",
    "\n",
    "    return file_path_list\n",
    "\n",
    "print(\"method get_files created\")"
   ]
  },
  {
   "cell_type": "markdown",
   "metadata": {
    "pycharm": {
     "name": "#%% md\n"
    }
   },
   "source": [
    "##### <font color='green'>define a function that uses the list of files and returns a single aggregate 'event_datafile_new.csv' file with all rows from all tables</font>"
   ]
  },
  {
   "cell_type": "code",
   "execution_count": 25,
   "metadata": {
    "pycharm": {
     "name": "#%%\n"
    }
   },
   "outputs": [
    {
     "name": "stdout",
     "output_type": "stream",
     "text": [
      "method merge_csv_data created\n"
     ]
    }
   ],
   "source": [
    "def merge_csv_data(file_path_list: List[str]) -> str:\n",
    "    \"\"\"\n",
    "    merge a list of csv files into a single file\n",
    "\n",
    "    :param\n",
    "        file_path_list: a list of csv path names\n",
    "\n",
    "    :return\n",
    "        the merged single fle name (hard coded to event_datafile_new.csv)\n",
    "    \"\"\"\n",
    "\n",
    "    # initiating an empty list of rows that will be generated from each file\n",
    "    destination_file = 'event_datafile_new.csv'\n",
    "    full_data_rows_list = []\n",
    "\n",
    "    # for every filepath in the file path list dump to a massive array\n",
    "    for f in file_path_list:\n",
    "\n",
    "        # reading csv file\n",
    "        with open(f, 'r', encoding='utf8', newline='') as csvfile:\n",
    "            # creating a csv reader object\n",
    "            csvreader = csv.reader(csvfile)\n",
    "            next(csvreader)\n",
    "\n",
    "            # extracting each data row one by one and append it\n",
    "            for line in csvreader:\n",
    "                full_data_rows_list.append(line)\n",
    "\n",
    "    csv.register_dialect('myDialect', quoting=csv.QUOTE_ALL, skipinitialspace=True)\n",
    "\n",
    "    dumped_count = 0\n",
    "    hits_count = 0\n",
    "\n",
    "    # write the array into a new master file\n",
    "    with open(destination_file, 'w', encoding='utf8', newline='') as f:\n",
    "        writer = csv.writer(f, dialect='myDialect')\n",
    "        writer.writerow(['artist', 'firstName', 'gender', 'itemInSession', 'lastName', 'length',\n",
    "                         'level', 'location', 'sessionId', 'song', 'userId'])\n",
    "        for row in full_data_rows_list:\n",
    "            if row[0] == '':\n",
    "                dumped_count += 1\n",
    "                continue\n",
    "            hits_count += 1\n",
    "            writer.writerow((row[0], row[2], row[3], row[4], row[5], row[6], row[7], row[8], row[12], row[13], row[16]))\n",
    "\n",
    "    print(f\"dumped {dumped_count} records\")\n",
    "    print(f\"kept {hits_count} records\")\n",
    "\n",
    "    # check the number of rows in your csv file\n",
    "    with open(destination_file, 'r', encoding='utf8') as f:\n",
    "        print(f\"wrote {sum(1 for line in f)} lines to event_datafile_new.csv\")\n",
    "\n",
    "    return destination_file\n",
    "\n",
    "print(\"method merge_csv_data created\")"
   ]
  },
  {
   "cell_type": "markdown",
   "metadata": {
    "pycharm": {
     "name": "#%% md\n"
    }
   },
   "source": [
    "##### <font color='green'>define a function takes our new master file ('event_datafile_new.csv') and loads the data into our three Cassandra tables</font>\n",
    "    For each line:\n",
    "    - [x] insert (session_id, item_in_session, artist, song, song_length) into the `songplay_sessions` table\n",
    "    - [x] insert (user_id, session_id, item_in_session, first_name, last_name, artist, song) into a `user_sessions` table\n",
    "    - [x] insert (song, user_id, first_name, last_name) into a `song_subscribers` table"
   ]
  },
  {
   "cell_type": "code",
   "execution_count": 26,
   "metadata": {
    "pycharm": {
     "name": "#%%\n"
    }
   },
   "outputs": [
    {
     "name": "stdout",
     "output_type": "stream",
     "text": [
      "method load_csv_data() created\n"
     ]
    }
   ],
   "source": [
    "def load_csv_data(file: str, session: Session):\n",
    "    \"\"\"\n",
    "    read the master csv file and load into cassadra tables  \n",
    "    \n",
    "    :param \n",
    "        file: the master csv file\n",
    "        session: a cassandra.cluster.Session    \n",
    "    \"\"\"\n",
    "\n",
    "    print(\"loading database...\")\n",
    "    line_count = 0\n",
    "\n",
    "    # preconditions\n",
    "    if not os.path.exists(file):\n",
    "        raise (Exception(f\"file named '{file}' was not found!!!\"))\n",
    "    if session is None:\n",
    "        raise (Exception(\"Cassandra session is not set!!!!\"))\n",
    "\n",
    "    with open(file, encoding='utf8') as f:\n",
    "        csvreader = csv.reader(f)\n",
    "        next(csvreader)  # skip header\n",
    "        for line in csvreader:\n",
    "            line_count += 1\n",
    "\n",
    "            # read line array into a class instance\n",
    "            r = CsvRecord(line)\n",
    "\n",
    "            # song play sessions\n",
    "            session.execute(sql_queries.insert_songplay_sessions, (\n",
    "                r.session_id, r.item_in_session, r.artist, r.song, r.song_length\n",
    "            ))\n",
    "\n",
    "            # user sessions\n",
    "            session.execute(sql_queries.insert_user_sessions, (\n",
    "                r.user_id, r.session_id, r.item_in_session, r.first_name, r.last_name, r.artist, r.song\n",
    "            ))\n",
    "            # songs by user\n",
    "            session.execute(sql_queries.insert_song_subscribers, (\n",
    "                r.song, r.user_id, r.first_name, r.last_name\n",
    "            ))\n",
    "    print(f\"loaded {line_count} lines ...\")\n",
    "    \n",
    "print(\"method load_csv_data() created\")"
   ]
  },
  {
   "cell_type": "markdown",
   "metadata": {
    "pycharm": {
     "name": "#%% md\n"
    }
   },
   "source": [
    "##### <font color='green'>define a function that creates our three Cassandra tables</font>"
   ]
  },
  {
   "cell_type": "code",
   "execution_count": 27,
   "metadata": {
    "pycharm": {
     "name": "#%%\n"
    }
   },
   "outputs": [
    {
     "name": "stdout",
     "output_type": "stream",
     "text": [
      "method database_init() created\n"
     ]
    }
   ],
   "source": [
    "def database_init(session: Session):\n",
    "    \"\"\"\n",
    "    create all tables in Cassandra \n",
    "    \n",
    "    :param \n",
    "        session: a cassandra.cluster.Session    \n",
    "    \"\"\"\n",
    "\n",
    "    print(\"initializing database...\")\n",
    "    from cassandra.cluster import Cluster\n",
    "    try:\n",
    "\n",
    "        drop_tables(session=session)\n",
    "\n",
    "        # songplay sessions\n",
    "        session.execute(sql_queries.create_songplay_sessions)\n",
    "\n",
    "        # user_sessions\n",
    "        session.execute(sql_queries.create_user_sessions)\n",
    "\n",
    "        # song_subscribers\n",
    "        session.execute(sql_queries.create_song_subscribers)\n",
    "        return session\n",
    "\n",
    "    except Exception as e:\n",
    "        print(e)\n",
    "        raise e\n",
    "        \n",
    "print(\"method database_init() created\")"
   ]
  },
  {
   "cell_type": "markdown",
   "metadata": {
    "pycharm": {
     "name": "#%% md\n"
    }
   },
   "source": [
    "##### <font color='green'>define a function that drops our tables</font>"
   ]
  },
  {
   "cell_type": "code",
   "execution_count": 28,
   "metadata": {
    "pycharm": {
     "name": "#%%\n"
    }
   },
   "outputs": [
    {
     "name": "stdout",
     "output_type": "stream",
     "text": [
      "method drop_tables() created\n"
     ]
    }
   ],
   "source": [
    "def drop_tables(session: Session):\n",
    "    \"\"\"\n",
    "    drop all tables in session (keyspace)\n",
    "\n",
    "    :param\n",
    "        session: a cassandra.cluster.Session\n",
    "    \"\"\"\n",
    "    print(\"dropping database first...\")\n",
    "    from cassandra.cluster import Cluster\n",
    "    try:\n",
    "        session.execute(sql_queries.drop_songplay_sessions)\n",
    "        session.execute(sql_queries.drop_user_sessions)\n",
    "        session.execute(sql_queries.drop_song_subscribers)\n",
    "        return session\n",
    "\n",
    "    except Exception as e:\n",
    "        print(e)\n",
    "        raise e\n",
    "\n",
    "print(\"method drop_tables() created\")"
   ]
  },
  {
   "cell_type": "markdown",
   "metadata": {
    "pycharm": {
     "name": "#%% md\n"
    }
   },
   "source": [
    "---\n",
    "### Step 4 - LOAD DATA INTO CASSANDRA\n",
    "Now that we have defined all classes and functions, we'll begin loading and querying our data"
   ]
  },
  {
   "cell_type": "markdown",
   "metadata": {
    "pycharm": {
     "name": "#%% md\n"
    }
   },
   "source": [
    "\n",
    "##### <font color='green'>First, we'll use the function we created above to create our three Cassandra tables</font>"
   ]
  },
  {
   "cell_type": "code",
   "execution_count": 29,
   "metadata": {
    "pycharm": {
     "name": "#%%\n"
    }
   },
   "outputs": [
    {
     "name": "stdout",
     "output_type": "stream",
     "text": [
      "initializing database...\n",
      "dropping database first...\n"
     ]
    },
    {
     "data": {
      "text/plain": "<cassandra.cluster.Session at 0x11244c310>"
     },
     "execution_count": 29,
     "metadata": {},
     "output_type": "execute_result"
    }
   ],
   "source": [
    "# create database cluster/schema and return session\n",
    "database_init(session=cassandra_session)"
   ]
  },
  {
   "cell_type": "markdown",
   "metadata": {
    "pycharm": {
     "name": "#%% md\n"
    }
   },
   "source": [
    "\n",
    "##### <font color='green'>Next, we'll read all files from the event_data root directory and combine them into a single master_file</font>"
   ]
  },
  {
   "cell_type": "code",
   "execution_count": 30,
   "metadata": {
    "pycharm": {
     "name": "#%%\n"
    }
   },
   "outputs": [
    {
     "name": "stdout",
     "output_type": "stream",
     "text": [
      "Getting csv files from /Users/christopherlomeli/Source/courses/udacity-cassandra-model\n",
      "dumped 1131 records\n",
      "kept 6171 records\n",
      "wrote 6172 lines to event_datafile_new.csv\n"
     ]
    }
   ],
   "source": [
    "# read all files in the event_data root directory\n",
    "csv_files = get_files(event_data=\"event_data\")\n",
    "\n",
    "# combine them into a single file\n",
    "master_file = merge_csv_data(file_path_list=csv_files)\n"
   ]
  },
  {
   "cell_type": "markdown",
   "metadata": {
    "pycharm": {
     "name": "#%% md\n"
    }
   },
   "source": [
    "\n",
    "##### <font color='green'>Finally, we'll use the master_file to load data into our 3 Cassandra tables</font>"
   ]
  },
  {
   "cell_type": "code",
   "execution_count": 31,
   "metadata": {
    "pycharm": {
     "name": "#%%\n"
    }
   },
   "outputs": [
    {
     "name": "stdout",
     "output_type": "stream",
     "text": [
      "loading database...\n",
      "loaded 6171 lines ...\n"
     ]
    }
   ],
   "source": [
    "# load data into cassandra from the master file\n",
    "load_csv_data(master_file, cassandra_session)"
   ]
  },
  {
   "cell_type": "markdown",
   "metadata": {
    "pycharm": {
     "name": "#%% md\n"
    }
   },
   "source": [
    "<br>\n",
    "\n",
    "\n",
    "---\n",
    "#### Step 5 - PERFORM OUR QUERIES\n",
    "Now we are ready to test our solution by running the required 3 queries\n",
    "\n",
    "<br>"
   ]
  },
  {
   "cell_type": "markdown",
   "source": [
    "##### <font color='green'>5.1 - Run some Sanity tests - just verify that tables have data by running a select count(*) for each table</font>"
   ],
   "metadata": {
    "collapsed": false,
    "pycharm": {
     "name": "#%% md\n"
    }
   }
  },
  {
   "cell_type": "code",
   "execution_count": 32,
   "metadata": {
    "pycharm": {
     "name": "#%%\n"
    }
   },
   "outputs": [
    {
     "name": "stdout",
     "output_type": "stream",
     "text": [
      "\n",
      "---- Count table rows ---\n",
      "songplay_sessions has 6171 rows\n",
      "user_sessions has 6171 rows\n",
      "song_subscribers has 6001 rows\n"
     ]
    }
   ],
   "source": [
    "print(\"\\n---- Count table rows ---\")\n",
    "\n",
    "rows = cassandra_session.execute(\"select count(*) from songplay_sessions\")\n",
    "for row in rows:\n",
    "    print(f\"songplay_sessions has {row.count} rows\")\n",
    "\n",
    "rows = cassandra_session.execute(\"select count(*) from user_sessions\")\n",
    "for row in rows:\n",
    "    print(f\"user_sessions has {row.count} rows\")\n",
    "\n",
    "rows = cassandra_session.execute(\"select count(*) from song_subscribers\")\n",
    "for row in rows:\n",
    "    print(f\"song_subscribers has {row.count} rows\")\n",
    "\n"
   ]
  },
  {
   "cell_type": "markdown",
   "metadata": {
    "pycharm": {
     "name": "#%% md\n"
    }
   },
   "source": [
    "##### <font color='green'>5.2 - Create Query functions so that we can call each query with different arguments</font>"
   ]
  },
  {
   "cell_type": "code",
   "execution_count": 33,
   "metadata": {
    "pycharm": {
     "name": "#%%\n"
    }
   },
   "outputs": [
    {
     "name": "stdout",
     "output_type": "stream",
     "text": [
      "created queries methods...\n"
     ]
    }
   ],
   "source": [
    "# QUERY1 :: Define a function to Select the artist, song title and song’s length in the music app history that was heard durin\n",
    "def query_songplays(session: Session, session_id : int, ordinal: int ):\n",
    "    print(f\"\\n---- results for songplays with sessionId={session_id}, and item={ordinal} ----\")\n",
    "    rows = session.execute(sql_queries.select_songplay_sessions, (session_id, ordinal))\n",
    "    for row in rows:\n",
    "        print(row)\n",
    "\n",
    "\n",
    "# QUERY2 :: Define a function to Select the artist, song title and song’s length in the music app history that was heard durin\n",
    "def query_user_sessions(session: Session, user_id : int, session_id : int):\n",
    "    print(f\"\\n---- results for user sessions with userId={user_id} and sessionId={session_id} ----\")\n",
    "    rows = session.execute(sql_queries.select_user_sessions, (user_id, session_id))\n",
    "    for row in rows:\n",
    "        print(row)\n",
    "\n",
    "\n",
    "# QUERY 3 ::\n",
    "def query_song_subscribers(session: Session, song: str):\n",
    "    print(f\"\\n---- results for all users listening to '{song} ----\")\n",
    "    rows = session.execute(sql_queries.select_song_subscribers, (song,))\n",
    "    for row in rows:\n",
    "        print(row)\n",
    "\n",
    "print(\"created queries methods...\")"
   ]
  },
  {
   "cell_type": "markdown",
   "metadata": {
    "pycharm": {
     "name": "#%% md\n"
    }
   },
   "source": [
    "\n",
    "##### <font color='green'>5.3 Now, run the queries</font>"
   ]
  },
  {
   "cell_type": "markdown",
   "source": [
    "<font color='blue'>QUERY1 - Select the artist, song title and song’s length in the music app history that was heard during sessionId = 338, and itemInSession = 4</font>"
   ],
   "metadata": {
    "collapsed": false,
    "pycharm": {
     "name": "#%% md\n"
    }
   }
  },
  {
   "cell_type": "code",
   "execution_count": 34,
   "metadata": {
    "pycharm": {
     "name": "#%%\n"
    }
   },
   "outputs": [
    {
     "name": "stdout",
     "output_type": "stream",
     "text": [
      "\n",
      "---- results for songplays with sessionId=338, and item=4 ----\n",
      "Row(artist='Faithless', song='Music Matters (Mark Knight Dub)', song_length=495.3073)\n"
     ]
    }
   ],
   "source": [
    "query_songplays(session=cassandra_session, session_id=338, ordinal=4)"
   ]
  },
  {
   "cell_type": "markdown",
   "source": [
    "<font color='blue'>QUERY2 - Select name of artist, song (sorted by itemInSession) and user (first and last name) for userid = 10, sessionid = 182</font>"
   ],
   "metadata": {
    "collapsed": false,
    "pycharm": {
     "name": "#%% md\n"
    }
   }
  },
  {
   "cell_type": "code",
   "execution_count": 35,
   "metadata": {
    "pycharm": {
     "name": "#%%\n"
    }
   },
   "outputs": [
    {
     "name": "stdout",
     "output_type": "stream",
     "text": [
      "\n",
      "---- results for user sessions with userId=10 and sessionId=182 ----\n",
      "Row(artist='Down To The Bone', song=\"Keep On Keepin' On\", iteminsession=0, firstname='Sylvie', lastname='Cruz')\n",
      "Row(artist='Three Drives', song='Greece 2000', iteminsession=1, firstname='Sylvie', lastname='Cruz')\n",
      "Row(artist='Sebastien Tellier', song='Kilometer', iteminsession=2, firstname='Sylvie', lastname='Cruz')\n",
      "Row(artist='Lonnie Gordon', song='Catch You Baby (Steve Pitron & Max Sanna Radio Edit)', iteminsession=3, firstname='Sylvie', lastname='Cruz')\n"
     ]
    }
   ],
   "source": [
    "query_user_sessions(session=cassandra_session, user_id=10, session_id=182)"
   ]
  },
  {
   "cell_type": "markdown",
   "source": [
    "<font color='blue'>QUERY3 - Select every user name (first and last) in my music app history who listened to the song ‘All Hands Against His Own’</font>"
   ],
   "metadata": {
    "collapsed": false,
    "pycharm": {
     "name": "#%% md\n"
    }
   }
  },
  {
   "cell_type": "code",
   "execution_count": 36,
   "metadata": {
    "pycharm": {
     "name": "#%%\n"
    }
   },
   "outputs": [
    {
     "name": "stdout",
     "output_type": "stream",
     "text": [
      "\n",
      "---- results for all users listening to 'All Hands Against His Own ----\n",
      "Row(firstname='Jacqueline', lastname='Lynch')\n",
      "Row(firstname='Tegan', lastname='Levine')\n",
      "Row(firstname='Sara', lastname='Johnson')\n"
     ]
    }
   ],
   "source": [
    "query_song_subscribers(session=cassandra_session, song=\"All Hands Against His Own\")"
   ]
  },
  {
   "cell_type": "markdown",
   "metadata": {
    "pycharm": {
     "name": "#%% md\n"
    }
   },
   "source": [
    "<br>\n",
    "\n",
    "---\n",
    "#### Step 6 - CLEAN UP"
   ]
  },
  {
   "cell_type": "code",
   "execution_count": 37,
   "metadata": {
    "pycharm": {
     "name": "#%%\n"
    }
   },
   "outputs": [],
   "source": [
    "## TO-DO: Drop the table before closing out the sessions\n",
    "# drop_tables(session=cassandra_session)\n",
    "# cassandra_session.execute(\"drop keyspace if exists event_data\")"
   ]
  },
  {
   "cell_type": "code",
   "execution_count": 38,
   "metadata": {
    "pycharm": {
     "name": "#%%\n"
    }
   },
   "outputs": [],
   "source": [
    "cassandra_session.shutdown()\n",
    "cluster.shutdown()"
   ]
  }
 ],
 "metadata": {
  "kernelspec": {
   "display_name": "Python 3 (ipykernel)",
   "language": "python",
   "name": "python3"
  },
  "language_info": {
   "codemirror_mode": {
    "name": "ipython",
    "version": 3
   },
   "file_extension": ".py",
   "mimetype": "text/x-python",
   "name": "python",
   "nbconvert_exporter": "python",
   "pygments_lexer": "ipython3",
   "version": "3.8.9"
  }
 },
 "nbformat": 4,
 "nbformat_minor": 2
}