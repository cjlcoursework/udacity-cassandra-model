{
 "cells": [
  {
   "cell_type": "code",
   "execution_count": 1,
   "metadata": {
    "pycharm": {
     "name": "#%%\n"
    }
   },
   "outputs": [],
   "source": [
    "# Part I. ETL Pipeline for Pre-Processing the Files"
   ]
  },
  {
   "cell_type": "markdown",
   "metadata": {
    "pycharm": {
     "name": "#%% md\n"
    }
   },
   "source": [
    "## PLEASE RUN THE FOLLOWING CODE FOR PRE-PROCESSING THE FILES"
   ]
  },
  {
   "cell_type": "markdown",
   "metadata": {
    "pycharm": {
     "name": "#%% md\n"
    }
   },
   "source": [
    "#### Import Python packages "
   ]
  },
  {
   "cell_type": "code",
   "execution_count": 2,
   "metadata": {
    "pycharm": {
     "is_executing": true,
     "name": "#%%\n"
    }
   },
   "outputs": [],
   "source": [
    "# Import Python packages \n",
    "import csv\n",
    "import glob\n",
    "import os\n",
    "import cassandra\n",
    "from typing import List\n",
    "import sql_queries"
   ]
  },
  {
   "cell_type": "markdown",
   "metadata": {
    "pycharm": {
     "name": "#%% md\n"
    }
   },
   "source": [
    "#### Creating list of filepaths to process original event csv data files"
   ]
  },
  {
   "cell_type": "code",
   "execution_count": 3,
   "metadata": {
    "pycharm": {
     "is_executing": true,
     "name": "#%%\n"
    }
   },
   "outputs": [
    {
     "name": "stdout",
     "output_type": "stream",
     "text": [
      "connected to cassandra\n"
     ]
    }
   ],
   "source": [
    "from cassandra.cluster import Cluster, Session\n",
    "\n",
    "cluster = Cluster(['127.0.0.1'])\n",
    "cassandra_session = cluster.connect()\n",
    "\n",
    "# create and use schema\n",
    "cassandra_session.execute(\"\"\"\n",
    "            CREATE KEYSPACE IF NOT EXISTS event_data\n",
    "            WITH REPLICATION =\n",
    "            { 'class' : 'SimpleStrategy', 'replication_factor' : 1 }\"\"\")\n",
    "\n",
    "cassandra_session.set_keyspace('event_data')\n",
    "\n",
    "print(\"connected to cassandra\")"
   ]
  },
  {
   "cell_type": "code",
   "execution_count": 4,
   "metadata": {
    "pycharm": {
     "name": "#%%\n"
    }
   },
   "outputs": [
    {
     "name": "stdout",
     "output_type": "stream",
     "text": [
      "class created\n"
     ]
    }
   ],
   "source": [
    "class CsvRecord:\n",
    "    \"\"\"\n",
    "    utility class to make transform from csv to columns clearer\n",
    "    \"\"\"\n",
    "    good_record: bool = False  # always false unless all fields were found\n",
    "\n",
    "    def __init__(self, line : List[any]):\n",
    "        \"\"\"\n",
    "        transform one values array into named columns    \n",
    "        :param \n",
    "            line: array of 11 values\n",
    "        \"\"\"\n",
    "        if len(line) != 11:\n",
    "            print(f\"bad line: {','.join(line)}\")\n",
    "            return\n",
    "        self.artist = line[0]\n",
    "        self.first_name= line[1]\n",
    "        self.gender = line[2]\n",
    "        self.item_in_session = int(line[3])\n",
    "        self.last_name= line[4]\n",
    "        self.song_length = float(line[5])\n",
    "        self.level = line[6]\n",
    "        self.location= line[7]\n",
    "        self.session_id= int(line[8])\n",
    "        self.song = line[9]\n",
    "        self.user_id = int(line[10])\n",
    "        self.good_record = True\n",
    "                  \n",
    "print(\"class created\")"
   ]
  },
  {
   "cell_type": "code",
   "execution_count": 5,
   "metadata": {
    "pycharm": {
     "name": "#%%\n"
    }
   },
   "outputs": [
    {
     "name": "stdout",
     "output_type": "stream",
     "text": [
      "method merge_csv_data created\n"
     ]
    }
   ],
   "source": [
    "def merge_csv_data(file_path_list: List[str]) -> str:\n",
    "    \"\"\"\n",
    "    merge a list of csv files into a single file \n",
    "    \n",
    "    :param \n",
    "        file_path_list: a list of csv path names\n",
    "    \n",
    "    :return\n",
    "        the merged single fle name (hard coded to event_datafile_new.csv)\n",
    "    \"\"\"\n",
    "\n",
    "    # initiating an empty list of rows that will be generated from each file\n",
    "    destination_file = 'event_datafile_new.csv'\n",
    "    full_data_rows_list = []\n",
    "\n",
    "    # for every filepath in the file path list\n",
    "    for f in file_path_list:\n",
    "\n",
    "        # reading csv file\n",
    "        with open(f, 'r', encoding='utf8', newline='') as csvfile:\n",
    "            # creating a csv reader object\n",
    "            csvreader = csv.reader(csvfile)\n",
    "            next(csvreader)\n",
    "\n",
    "            # extracting each data row one by one and append it\n",
    "            for line in csvreader:\n",
    "                full_data_rows_list.append(line)\n",
    "\n",
    "            # uncomment the code below if you would like to get total number of rows\n",
    "\n",
    "    # print(len(full_data_rows_list))\n",
    "    # uncomment the code below if you would like to check to see what the list of event data rows will look like\n",
    "    # print(full_data_rows_list)\n",
    "\n",
    "    # creating a smaller event data csv file called event_datafile_full csv that will be used to insert data into the \\\n",
    "    # Apache Cassandra tables\n",
    "    csv.register_dialect('myDialect', quoting=csv.QUOTE_ALL, skipinitialspace=True)\n",
    "\n",
    "    dumped_count = 0\n",
    "    hits_count = 0\n",
    "\n",
    "    with open(destination_file, 'w', encoding='utf8', newline='') as f:\n",
    "        writer = csv.writer(f, dialect='myDialect')\n",
    "        writer.writerow(['artist', 'firstName', 'gender', 'itemInSession', 'lastName', 'length',\n",
    "                         'level', 'location', 'sessionId', 'song', 'userId'])\n",
    "        for row in full_data_rows_list:\n",
    "            if row[0] == '':\n",
    "                dumped_count += 1\n",
    "                continue\n",
    "            hits_count += 1\n",
    "            writer.writerow((row[0], row[2], row[3], row[4], row[5], row[6], row[7], row[8], row[12], row[13], row[16]))\n",
    "\n",
    "    print(f\"dumped {dumped_count} records\")\n",
    "    print(f\"kept {hits_count} records\")\n",
    "\n",
    "    # check the number of rows in your csv file\n",
    "    with open(destination_file, 'r', encoding='utf8') as f:\n",
    "        print(f\"wrote {sum(1 for line in f)} lines to event_datafile_new.csv\")\n",
    "\n",
    "    return destination_file\n",
    "\n",
    "print(\"method merge_csv_data created\")"
   ]
  },
  {
   "cell_type": "code",
   "execution_count": 6,
   "metadata": {
    "pycharm": {
     "name": "#%%\n"
    }
   },
   "outputs": [
    {
     "name": "stdout",
     "output_type": "stream",
     "text": [
      "method get_files created\n"
     ]
    }
   ],
   "source": [
    "def get_files(event_data: str) -> List[str]:\n",
    "    \"\"\"\n",
    "    walk root directory and get all csv files in all subdirectories  \n",
    "    \n",
    "    :param \n",
    "        event_data: the root directory name to walk\n",
    "    \n",
    "    :return\n",
    "        A list of all csv files in all subdirectories\n",
    "    \"\"\"\n",
    "\n",
    "    # checking your current working directory\n",
    "    print(f\"Getting csv files from {os.getcwd()}\")\n",
    "\n",
    "    # Get your current folder and subfolder event data\n",
    "    filepath = os.getcwd() + '/' + event_data\n",
    "\n",
    "    # Create a for loop to create a list of files and collect each filepath\n",
    "    for root, dirs, files in os.walk(filepath):\n",
    "        # join the file path and roots with the subdirectories using glob\n",
    "        file_path_list = glob.glob(os.path.join(root, '*.csv'))\n",
    "\n",
    "    return file_path_list\n",
    "\n",
    "print(\"method get_files created\")"
   ]
  },
  {
   "cell_type": "code",
   "execution_count": 7,
   "metadata": {
    "pycharm": {
     "name": "#%%\n"
    }
   },
   "outputs": [
    {
     "name": "stdout",
     "output_type": "stream",
     "text": [
      "method load_csv_data() created\n"
     ]
    }
   ],
   "source": [
    "def load_csv_data(file: str, session: Session):\n",
    "    \"\"\"\n",
    "    read the master csv file and load into cassadra tables  \n",
    "    \n",
    "    :param \n",
    "        file: the master csv file\n",
    "        session: a cassandra.cluster.Session    \n",
    "    \"\"\"\n",
    "\n",
    "    print(\"loading database...\")\n",
    "    line_count = 0\n",
    "\n",
    "    # preconditions\n",
    "    if not os.path.exists(file):\n",
    "        raise (Exception(f\"file named '{file}' was not found!!!\"))\n",
    "    if session is None:\n",
    "        raise (Exception(\"Cassandra session is not set!!!!\"))\n",
    "\n",
    "    with open(file, encoding='utf8') as f:\n",
    "        csvreader = csv.reader(f)\n",
    "        next(csvreader)  # skip header\n",
    "        for line in csvreader:\n",
    "            line_count += 1\n",
    "\n",
    "            # read line array into a class instance\n",
    "            r = CsvRecord(line)\n",
    "\n",
    "            # song play sessions\n",
    "            session.execute(sql_queries.insert_songplay_sessions, (\n",
    "                r.session_id, r.item_in_session, r.artist, r.song, r.song_length\n",
    "            ))\n",
    "\n",
    "            # user sessions\n",
    "            session.execute(sql_queries.insert_user_sessions, (\n",
    "                r.user_id, r.session_id, r.item_in_session, r.first_name, r.last_name, r.artist, r.song\n",
    "            ))\n",
    "            # songs by user\n",
    "            session.execute(sql_queries.insert_song_subscribers, (\n",
    "                r.song, r.first_name, r.last_name\n",
    "            ))\n",
    "    print(f\"loaded {line_count} lines ...\")\n",
    "    \n",
    "print(\"method load_csv_data() created\")"
   ]
  },
  {
   "cell_type": "code",
   "execution_count": 8,
   "metadata": {
    "pycharm": {
     "name": "#%%\n"
    }
   },
   "outputs": [
    {
     "name": "stdout",
     "output_type": "stream",
     "text": [
      "method drop_tables() created\n"
     ]
    }
   ],
   "source": [
    "def drop_tables(session: Session):\n",
    "    \"\"\"\n",
    "    drop all tables in session (keyspace)  \n",
    "    \n",
    "    :param \n",
    "        session: a cassandra.cluster.Session    \n",
    "    \"\"\"\n",
    "    print(\"dropping database first...\")\n",
    "    from cassandra.cluster import Cluster\n",
    "    try:\n",
    "        session.execute(sql_queries.drop_songplay_sessions)\n",
    "        session.execute(sql_queries.drop_user_sessions)\n",
    "        session.execute(sql_queries.drop_song_subscribers)\n",
    "        return session\n",
    "\n",
    "    except Exception as e:\n",
    "        print(e)\n",
    "        raise e\n",
    "        \n",
    "print(\"method drop_tables() created\")"
   ]
  },
  {
   "cell_type": "code",
   "execution_count": 9,
   "metadata": {
    "pycharm": {
     "name": "#%%\n"
    }
   },
   "outputs": [
    {
     "name": "stdout",
     "output_type": "stream",
     "text": [
      "method database_init() created\n"
     ]
    }
   ],
   "source": [
    "def database_init(session: Session):\n",
    "    \"\"\"\n",
    "    create all tables in Cassandra \n",
    "    \n",
    "    :param \n",
    "        session: a cassandra.cluster.Session    \n",
    "    \"\"\"\n",
    "\n",
    "    print(\"initializing database...\")\n",
    "    from cassandra.cluster import Cluster\n",
    "    try:\n",
    "\n",
    "        drop_tables(session=session)\n",
    "\n",
    "        # songplay sessions\n",
    "        session.execute(sql_queries.create_songplay_sessions)\n",
    "\n",
    "        # user_sessions\n",
    "        session.execute(sql_queries.create_user_sessions)\n",
    "\n",
    "        # song_subscribers\n",
    "        session.execute(sql_queries.create_song_subscribers)\n",
    "        return session\n",
    "\n",
    "    except Exception as e:\n",
    "        print(e)\n",
    "        raise e\n",
    "        \n",
    "print(\"method database_init() created\")"
   ]
  },
  {
   "cell_type": "markdown",
   "metadata": {
    "pycharm": {
     "name": "#%% md\n"
    }
   },
   "source": [
    "#### Processing the files to create the data file csv that will be used for Apache Casssandra tables"
   ]
  },
  {
   "cell_type": "code",
   "execution_count": 10,
   "metadata": {
    "pycharm": {
     "name": "#%%\n"
    }
   },
   "outputs": [
    {
     "name": "stdout",
     "output_type": "stream",
     "text": [
      "Getting csv files from /home/workspace\n",
      "dumped 1236 records\n",
      "kept 6820 records\n",
      "wrote 6821 lines to event_datafile_new.csv\n"
     ]
    }
   ],
   "source": [
    "# gather all files from event_data\n",
    "csv_files = get_files(event_data=\"event_data\")\n",
    "\n",
    "# get data from all csv files into a single csv\n",
    "master_file = merge_csv_data(file_path_list=csv_files)\n"
   ]
  },
  {
   "cell_type": "markdown",
   "metadata": {
    "pycharm": {
     "name": "#%% md\n"
    }
   },
   "source": [
    "# Part II. Complete the Apache Cassandra coding portion of your project. \n",
    "\n",
    "## Now you are ready to work with the CSV file titled <font color=red>event_datafile_new.csv</font>, located within the Workspace directory.  The event_datafile_new.csv contains the following columns: \n",
    "- artist \n",
    "- firstName of user\n",
    "- gender of user\n",
    "- item number in session\n",
    "- last name of user\n",
    "- length of the song\n",
    "- level (paid or free song)\n",
    "- location of the user\n",
    "- sessionId\n",
    "- song title\n",
    "- userId\n",
    "\n",
    "The image below is a screenshot of what the denormalized data should appear like in the <font color=red>**event_datafile_new.csv**</font> after the code above is run:<br>\n",
    "\n",
    "<img src=\"images/image_event_datafile_new.jpg\">"
   ]
  },
  {
   "cell_type": "markdown",
   "metadata": {
    "pycharm": {
     "name": "#%% md\n"
    }
   },
   "source": [
    "## Begin writing your Apache Cassandra code in the cells below"
   ]
  },
  {
   "cell_type": "markdown",
   "metadata": {
    "pycharm": {
     "name": "#%% md\n"
    }
   },
   "source": [
    "#### Create a Cluster, Keyspace and Schema"
   ]
  },
  {
   "cell_type": "code",
   "execution_count": 11,
   "metadata": {
    "pycharm": {
     "name": "#%%\n"
    }
   },
   "outputs": [
    {
     "name": "stdout",
     "output_type": "stream",
     "text": [
      "initializing database...\n",
      "dropping database first...\n"
     ]
    },
    {
     "data": {
      "text/plain": [
       "<cassandra.cluster.Session at 0x7f52cdb825f8>"
      ]
     },
     "execution_count": 11,
     "metadata": {},
     "output_type": "execute_result"
    }
   ],
   "source": [
    "# create database cluster/schema and return session\n",
    "database_init(session=cassandra_session)"
   ]
  },
  {
   "cell_type": "code",
   "execution_count": 12,
   "metadata": {
    "pycharm": {
     "name": "#%%\n"
    }
   },
   "outputs": [
    {
     "name": "stdout",
     "output_type": "stream",
     "text": [
      "loading database...\n",
      "loaded 6820 lines ...\n"
     ]
    }
   ],
   "source": [
    "# load data into cassandra from the master file\n",
    "load_csv_data(master_file, cassandra_session)"
   ]
  },
  {
   "cell_type": "markdown",
   "metadata": {
    "pycharm": {
     "name": "#%% md\n"
    }
   },
   "source": [
    "### Now we need to create tables to run the following queries. Remember, with Apache Cassandra you model the database tables on the queries you want to run."
   ]
  },
  {
   "cell_type": "markdown",
   "metadata": {
    "pycharm": {
     "name": "#%% md\n"
    }
   },
   "source": [
    "## Create queries to ask the following three questions of the data\n"
   ]
  },
  {
   "cell_type": "code",
   "execution_count": 13,
   "metadata": {
    "pycharm": {
     "name": "#%%\n"
    }
   },
   "outputs": [
    {
     "name": "stdout",
     "output_type": "stream",
     "text": [
      "created queries methods...\n"
     ]
    }
   ],
   "source": [
    "def query_songplays(session: Session, session_id : int, ordinal: int ):\n",
    "    print(f\"\\n---- query songplays with sessionId={session_id}, and item={ordinal} ----\")\n",
    "    rows = session.execute(sql_queries.select_songplay_sessions, (session_id, ordinal))\n",
    "    for row in rows:\n",
    "        print(row)\n",
    "\n",
    "def query_user_sessions(session: Session, user_id : int, session_id : int):\n",
    "    print(f\"\\n---- query user sessions with userId={user_id} and sessionId={session_id} ----\")\n",
    "    rows = session.execute(sql_queries.select_user_sessions, (user_id, session_id))\n",
    "    for row in rows:\n",
    "        print(row)\n",
    "\n",
    "def query_song_subscribers(session: Session, song: str):\n",
    "    print(f\"\\n---- query all users listening to '{song} ----\")\n",
    "    rows = session.execute(sql_queries.select_song_subscribers, (song,))\n",
    "    for row in rows:\n",
    "        print(row)\n",
    "\n",
    "print(\"created queries methods...\")"
   ]
  },
  {
   "cell_type": "markdown",
   "metadata": {
    "pycharm": {
     "name": "#%% md\n"
    }
   },
   "source": [
    "#### Do a SELECT to verify that the data have been inserted into each table"
   ]
  },
  {
   "cell_type": "code",
   "execution_count": 14,
   "metadata": {
    "pycharm": {
     "name": "#%%\n"
    },
    "scrolled": true
   },
   "outputs": [
    {
     "name": "stdout",
     "output_type": "stream",
     "text": [
      "\n",
      "---- Count table rows ---\n",
      "songplay_sessions has 6820 rows\n",
      "user_sessions has 6820 rows\n",
      "song_subscribers has 6618 rows\n"
     ]
    }
   ],
   "source": [
    "print(\"\\n---- Count table rows ---\")\n",
    "\n",
    "rows = cassandra_session.execute(\"select count(*) from songplay_sessions\")\n",
    "for row in rows:\n",
    "    print(f\"songplay_sessions has {row.count} rows\")\n",
    "\n",
    "rows = cassandra_session.execute(\"select count(*) from user_sessions\")\n",
    "for row in rows:\n",
    "    print(f\"user_sessions has {row.count} rows\")\n",
    "\n",
    "rows = cassandra_session.execute(\"select count(*) from song_subscribers\")\n",
    "for row in rows:\n",
    "    print(f\"song_subscribers has {row.count} rows\")\n",
    "\n"
   ]
  },
  {
   "cell_type": "markdown",
   "metadata": {
    "pycharm": {
     "name": "#%% md\n"
    }
   },
   "source": [
    "#### Give me the artist, song title and song’s length in the music app history that was heard during sessionId = 338, and itemInSession = 4"
   ]
  },
  {
   "cell_type": "code",
   "execution_count": 15,
   "metadata": {
    "pycharm": {
     "name": "#%%\n"
    }
   },
   "outputs": [
    {
     "name": "stdout",
     "output_type": "stream",
     "text": [
      "\n",
      "---- query songplays with sessionId=338, and item=4 ----\n",
      "Row(artist='Faithless', song='Music Matters (Mark Knight Dub)', song_length=495.3073)\n"
     ]
    }
   ],
   "source": [
    "query_songplays(session=cassandra_session, session_id=338, ordinal=4)"
   ]
  },
  {
   "cell_type": "markdown",
   "metadata": {
    "pycharm": {
     "name": "#%% md\n"
    }
   },
   "source": [
    "### Give me only the following: name of artist, song (sorted by itemInSession) and user (first and last name) for userid = 10, sessionid = 182"
   ]
  },
  {
   "cell_type": "code",
   "execution_count": 16,
   "metadata": {
    "pycharm": {
     "name": "#%%\n"
    }
   },
   "outputs": [
    {
     "name": "stdout",
     "output_type": "stream",
     "text": [
      "\n",
      "---- query user sessions with userId=10 and sessionId=182 ----\n",
      "Row(artist='Down To The Bone', song=\"Keep On Keepin' On\", iteminsession=0, firstname='Sylvie', lastname='Cruz')\n",
      "Row(artist='Three Drives', song='Greece 2000', iteminsession=1, firstname='Sylvie', lastname='Cruz')\n",
      "Row(artist='Sebastien Tellier', song='Kilometer', iteminsession=2, firstname='Sylvie', lastname='Cruz')\n",
      "Row(artist='Lonnie Gordon', song='Catch You Baby (Steve Pitron & Max Sanna Radio Edit)', iteminsession=3, firstname='Sylvie', lastname='Cruz')\n"
     ]
    }
   ],
   "source": [
    "query_user_sessions(session=cassandra_session, user_id=10, session_id=182)"
   ]
  },
  {
   "cell_type": "markdown",
   "metadata": {
    "pycharm": {
     "name": "#%% md\n"
    }
   },
   "source": [
    "#### Give me every user name (first and last) in my music app history who listened to the song ‘All Hands Against His Own’"
   ]
  },
  {
   "cell_type": "code",
   "execution_count": 17,
   "metadata": {
    "pycharm": {
     "name": "#%%\n"
    }
   },
   "outputs": [
    {
     "name": "stdout",
     "output_type": "stream",
     "text": [
      "\n",
      "---- query all users listening to 'All Hands Against His Own ----\n",
      "Row(firstname='Jacqueline', lastname='Lynch')\n",
      "Row(firstname='Sara', lastname='Johnson')\n",
      "Row(firstname='Tegan', lastname='Levine')\n"
     ]
    }
   ],
   "source": [
    "query_song_subscribers(session=cassandra_session, song=\"All Hands Against His Own\")"
   ]
  },
  {
   "cell_type": "markdown",
   "metadata": {
    "pycharm": {
     "name": "#%% md\n"
    }
   },
   "source": [
    "### Drop the tables before closing out the sessions"
   ]
  },
  {
   "cell_type": "code",
   "execution_count": 18,
   "metadata": {
    "pycharm": {
     "name": "#%%\n"
    }
   },
   "outputs": [
    {
     "name": "stdout",
     "output_type": "stream",
     "text": [
      "dropping database first...\n"
     ]
    },
    {
     "data": {
      "text/plain": [
       "<cassandra.cluster.Session at 0x7f52cdb825f8>"
      ]
     },
     "execution_count": 18,
     "metadata": {},
     "output_type": "execute_result"
    }
   ],
   "source": [
    "## TO-DO: Drop the table before closing out the sessions\n",
    "drop_tables(session=cassandra_session)"
   ]
  },
  {
   "cell_type": "markdown",
   "metadata": {
    "pycharm": {
     "name": "#%% md\n"
    }
   },
   "source": [
    "### Close the session and cluster connection¶"
   ]
  },
  {
   "cell_type": "code",
   "execution_count": 19,
   "metadata": {
    "pycharm": {
     "name": "#%%\n"
    }
   },
   "outputs": [],
   "source": [
    "cassandra_session.execute(\"drop keyspace if exists event_data\")\n",
    "cassandra_session.shutdown()\n",
    "cluster.shutdown()"
   ]
  }
 ],
 "metadata": {
  "kernelspec": {
   "display_name": "Python 3",
   "language": "python",
   "name": "python3"
  },
  "language_info": {
   "codemirror_mode": {
    "name": "ipython",
    "version": 3
   },
   "file_extension": ".py",
   "mimetype": "text/x-python",
   "name": "python",
   "nbconvert_exporter": "python",
   "pygments_lexer": "ipython3",
   "version": "3.6.3"
  }
 },
 "nbformat": 4,
 "nbformat_minor": 2
}